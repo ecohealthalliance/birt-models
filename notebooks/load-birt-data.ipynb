{
 "cells": [
  {
   "cell_type": "markdown",
   "metadata": {},
   "source": [
    "We're assuming that `mongod` is running and pointing to a database with the BIRT data. In my case, that's `mongod --dbpath /Volumes/Transcend/data/db`."
   ]
  },
  {
   "cell_type": "code",
   "execution_count": 1,
   "metadata": {
    "collapsed": true
   },
   "outputs": [],
   "source": [
    "from pymongo import MongoClient"
   ]
  },
  {
   "cell_type": "code",
   "execution_count": 2,
   "metadata": {
    "collapsed": true
   },
   "outputs": [],
   "source": [
    "client = MongoClient()\n",
    "db = client.birt"
   ]
  },
  {
   "cell_type": "code",
   "execution_count": 3,
   "metadata": {
    "collapsed": false
   },
   "outputs": [
    {
     "data": {
      "text/plain": [
       "['migrations', 'birds']"
      ]
     },
     "execution_count": 3,
     "metadata": {},
     "output_type": "execute_result"
    }
   ],
   "source": [
    "# Make sure we've got the thing hooked up right.\n",
    "db.collection_names()"
   ]
  },
  {
   "cell_type": "code",
   "execution_count": 4,
   "metadata": {
    "collapsed": false
   },
   "outputs": [],
   "source": [
    "birds = db.birds"
   ]
  },
  {
   "cell_type": "markdown",
   "metadata": {},
   "source": [
    "So, now we have `birds`, which is a collection of the eBird sightings. The documentation for the `Collection()` class is [here](https://api.mongodb.org/python/current/api/pymongo/collection.html#pymongo.collection.Collection). `birds.find_one()` will get us the first record to take a look at the structure."
   ]
  },
  {
   "cell_type": "code",
   "execution_count": 5,
   "metadata": {
    "collapsed": false
   },
   "outputs": [
    {
     "data": {
      "text/plain": [
       "{'_id': 'rhodostethia_rosea',\n",
       " 'category': 'species',\n",
       " 'family_name': 'Laridae (Gulls- Terns- and Skimmers)',\n",
       " 'genus_name': 'Rhodostethia',\n",
       " 'order_name': 'Charadriiformes',\n",
       " 'primary_com_name': \"Ross's_Gull\",\n",
       " 'species_name': 'rosea',\n",
       " 'subfamily_name': None,\n",
       " 'taxon_order': 4292.0}"
      ]
     },
     "execution_count": 5,
     "metadata": {},
     "output_type": "execute_result"
    }
   ],
   "source": [
    "birds.find_one()"
   ]
  },
  {
   "cell_type": "code",
   "execution_count": 7,
   "metadata": {
    "collapsed": true
   },
   "outputs": [],
   "source": [
    "migrations = db.migrations"
   ]
  },
  {
   "cell_type": "markdown",
   "metadata": {},
   "source": [
    "Below, we examine a single `migrations` document. It includes... gosh, I think this data is pretty shittily organized. How can I index this? It doesn't have like, a \"sightings\" array. It has just, all the variables, and then the number of birds at that location.\n",
    "\n",
    "So, for each bird, I should:\n",
    "\n",
    "1. Find all documents with that species name.\n",
    "2. Extract all covariates for those locations, and the \"target\", in `scikit-learn` terminology, is the number of birds.\n",
    "3. Load all background covariates"
   ]
  },
  {
   "cell_type": "code",
   "execution_count": 8,
   "metadata": {
    "collapsed": false
   },
   "outputs": [
    {
     "data": {
      "text/plain": [
       "{'_id': 'S4080710',\n",
       " 'actitis_macularius': 1,\n",
       " 'antrostomus_carolinensis': 2,\n",
       " 'bailey_ecoregion': None,\n",
       " 'bcr': None,\n",
       " 'bubulcus_ibis': 1,\n",
       " 'buteo_platypterus': 1,\n",
       " 'catharus_ustulatus': 3,\n",
       " 'caus_prec': 6,\n",
       " 'caus_snow': 1,\n",
       " 'caus_temp_avg': 8,\n",
       " 'caus_temp_max': 7,\n",
       " 'caus_temp_min': 9,\n",
       " 'circus_cyaneus': 1,\n",
       " 'count_type': 'P20',\n",
       " 'country': 'United_States',\n",
       " 'date': datetime.datetime(2002, 10, 4, 0, 0),\n",
       " 'day': 277,\n",
       " 'dolichonyx_oryzivorus': 8,\n",
       " 'dumetella_carolinensis': 1,\n",
       " 'effort_area_ha': 0.0,\n",
       " 'effort_distance_km': 0.0,\n",
       " 'effort_hrs': 3.58,\n",
       " 'elev_gt': None,\n",
       " 'elev_ned': 2.33,\n",
       " 'empidonax_sp': 2,\n",
       " 'falco_columbarius': 2,\n",
       " 'geothlypis_trichas': 14,\n",
       " 'group_id': None,\n",
       " 'hirundo_rustica': 3,\n",
       " 'housing_density': 591.8242830994509,\n",
       " 'housing_percent_vacant': 0.4845360824742268,\n",
       " 'leucophaeus_atricilla': 1,\n",
       " 'loc': {'coordinates': [-81.8106, 24.5463], 'type': 'Point'},\n",
       " 'megaceryle_alcyon': 2,\n",
       " 'melanerpes_carolinus': 3,\n",
       " 'mimus_polyglottos': 5,\n",
       " 'mniotilta_varia': 2,\n",
       " 'month': 10,\n",
       " 'nlcd2001_fs_c11_7500_pland': 76.9278,\n",
       " 'nlcd2001_fs_c12_7500_pland': 0.0,\n",
       " 'nlcd2001_fs_c21_7500_pland': 0.9185,\n",
       " 'nlcd2001_fs_c22_7500_pland': 2.0699,\n",
       " 'nlcd2001_fs_c23_7500_pland': 3.5175,\n",
       " 'nlcd2001_fs_c24_7500_pland': 1.0354,\n",
       " 'nlcd2001_fs_c31_7500_pland': 0.0,\n",
       " 'nlcd2001_fs_c41_7500_pland': 0.0,\n",
       " 'nlcd2001_fs_c42_7500_pland': 0.0,\n",
       " 'nlcd2001_fs_c43_7500_pland': 0.0,\n",
       " 'nlcd2001_fs_c52_7500_pland': 0.0,\n",
       " 'nlcd2001_fs_c71_7500_pland': 0.0122,\n",
       " 'nlcd2001_fs_c81_7500_pland': 0.0,\n",
       " 'nlcd2001_fs_c82_7500_pland': 0.0,\n",
       " 'nlcd2001_fs_c90_7500_pland': 0.8313,\n",
       " 'nlcd2001_fs_c95_7500_pland': 14.6874,\n",
       " 'nlcd2006_fs_c11_7500_pland': 76.9262,\n",
       " 'nlcd2006_fs_c12_7500_pland': 0.0,\n",
       " 'nlcd2006_fs_c21_7500_pland': 0.8946,\n",
       " 'nlcd2006_fs_c22_7500_pland': 2.0496,\n",
       " 'nlcd2006_fs_c23_7500_pland': 3.5422,\n",
       " 'nlcd2006_fs_c24_7500_pland': 1.0536,\n",
       " 'nlcd2006_fs_c31_7500_pland': 0.0,\n",
       " 'nlcd2006_fs_c41_7500_pland': 0.0,\n",
       " 'nlcd2006_fs_c42_7500_pland': 0.0,\n",
       " 'nlcd2006_fs_c43_7500_pland': 0.0,\n",
       " 'nlcd2006_fs_c52_7500_pland': 0.0,\n",
       " 'nlcd2006_fs_c71_7500_pland': 0.011,\n",
       " 'nlcd2006_fs_c81_7500_pland': 0.0,\n",
       " 'nlcd2006_fs_c82_7500_pland': 0.0,\n",
       " 'nlcd2006_fs_c90_7500_pland': 0.8349,\n",
       " 'nlcd2006_fs_c95_7500_pland': 14.6878,\n",
       " 'number_observers': 1,\n",
       " 'nyctanassa_violacea': 1,\n",
       " 'observer_id': 'obs115524',\n",
       " 'omernik_l3_ecoregion': None,\n",
       " 'pandion_haliaetus': 2,\n",
       " 'patagioenas_leucocephala': 10,\n",
       " 'polioptila_caerulea': 5,\n",
       " 'pop00_sqmi': 738.3,\n",
       " 'primary_checklist_flag': True,\n",
       " 'protonotaria_citrea': 1,\n",
       " 'quiscalus_quiscula': 2,\n",
       " 'seiurus_aurocapilla': 9,\n",
       " 'setophaga_americana': 4,\n",
       " 'setophaga_caerulescens': 7,\n",
       " 'setophaga_citrina': 3,\n",
       " 'setophaga_discolor': 3,\n",
       " 'setophaga_magnolia': 2,\n",
       " 'setophaga_palmarum': 69,\n",
       " 'setophaga_pensylvanica': 3,\n",
       " 'setophaga_ruticilla': 6,\n",
       " 'setophaga_tigrina': 3,\n",
       " 'state_province': 'Florida',\n",
       " 'time': 8.67,\n",
       " 'vireo_olivaceus': 3,\n",
       " 'year': 2002,\n",
       " 'zenaida_asiatica': 1,\n",
       " 'zenaida_macroura': 32}"
      ]
     },
     "execution_count": 8,
     "metadata": {},
     "output_type": "execute_result"
    }
   ],
   "source": [
    "migrations.find_one()"
   ]
  },
  {
   "cell_type": "code",
   "execution_count": null,
   "metadata": {
    "collapsed": true
   },
   "outputs": [],
   "source": []
  }
 ],
 "metadata": {
  "kernelspec": {
   "display_name": "Python 3",
   "language": "python",
   "name": "python3"
  },
  "language_info": {
   "codemirror_mode": {
    "name": "ipython",
    "version": 3
   },
   "file_extension": ".py",
   "mimetype": "text/x-python",
   "name": "python",
   "nbconvert_exporter": "python",
   "pygments_lexer": "ipython3",
   "version": "3.5.1"
  }
 },
 "nbformat": 4,
 "nbformat_minor": 0
}
