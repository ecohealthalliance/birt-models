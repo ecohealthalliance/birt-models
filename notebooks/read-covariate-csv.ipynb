{
 "cells": [
  {
   "cell_type": "markdown",
   "metadata": {},
   "source": [
    "We're going to read in the CSV of BIRT covariate data, the 30km grid, as a pandas dataframe."
   ]
  },
  {
   "cell_type": "code",
   "execution_count": 1,
   "metadata": {
    "collapsed": true
   },
   "outputs": [],
   "source": [
    "import pandas as pd\n",
    "import os"
   ]
  },
  {
   "cell_type": "code",
   "execution_count": 2,
   "metadata": {
    "collapsed": true
   },
   "outputs": [],
   "source": [
    "datadir = '/Volumes/Transcend/birt data/eBird raw data'\n",
    "\n",
    "file = 'srd_point_data_30km_v3.0.csv'\n",
    "path_to_file = os.path.join(datadir, 'srd_point_data_30km_v3.0.csv')\n",
    "\n",
    "# Missing values seem to be encoded as \"?\", so we're going to add this to the na_values argument.\n",
    "srd30km = pd.read_csv(path_to_file, na_values = '?')"
   ]
  },
  {
   "cell_type": "code",
   "execution_count": 5,
   "metadata": {
    "collapsed": false,
    "scrolled": true
   },
   "outputs": [
    {
     "data": {
      "text/plain": [
       "DECIMAL_LATITUDE              float64\n",
       "DECIMAL_LONGITUDE             float64\n",
       "POP00_SQMI                    float64\n",
       "HOUSING_DENSITY               float64\n",
       "HOUSING_PERCENT_VACANT        float64\n",
       "ELEV_GT                       float64\n",
       "ELEV_NED                      float64\n",
       "SUBNATIONAL2_CODE              object\n",
       "BCR                           float64\n",
       "BAILEY_ECOREGION               object\n",
       "OMERNIK_L3_ECOREGION          float64\n",
       "CAUS_TEMP_AVG01               float64\n",
       "CAUS_TEMP_AVG02               float64\n",
       "CAUS_TEMP_AVG03               float64\n",
       "CAUS_TEMP_AVG04               float64\n",
       "CAUS_TEMP_AVG05               float64\n",
       "CAUS_TEMP_AVG06               float64\n",
       "CAUS_TEMP_AVG07               float64\n",
       "CAUS_TEMP_AVG08               float64\n",
       "CAUS_TEMP_AVG09               float64\n",
       "CAUS_TEMP_AVG10               float64\n",
       "CAUS_TEMP_AVG11               float64\n",
       "CAUS_TEMP_AVG12               float64\n",
       "CAUS_TEMP_AVG13               float64\n",
       "CAUS_TEMP_MIN01               float64\n",
       "CAUS_TEMP_MIN02               float64\n",
       "CAUS_TEMP_MIN03               float64\n",
       "CAUS_TEMP_MIN04               float64\n",
       "CAUS_TEMP_MIN05               float64\n",
       "CAUS_TEMP_MIN06               float64\n",
       "                               ...   \n",
       "NLCD2006_FS_C42_7500_PD       float64\n",
       "NLCD2006_FS_C42_7500_PLAND    float64\n",
       "NLCD2006_FS_C43_7500_ED       float64\n",
       "NLCD2006_FS_C43_7500_LPI      float64\n",
       "NLCD2006_FS_C43_7500_PD       float64\n",
       "NLCD2006_FS_C43_7500_PLAND    float64\n",
       "NLCD2006_FS_C52_7500_ED       float64\n",
       "NLCD2006_FS_C52_7500_LPI      float64\n",
       "NLCD2006_FS_C52_7500_PD       float64\n",
       "NLCD2006_FS_C52_7500_PLAND    float64\n",
       "NLCD2006_FS_C71_7500_ED       float64\n",
       "NLCD2006_FS_C71_7500_LPI      float64\n",
       "NLCD2006_FS_C71_7500_PD       float64\n",
       "NLCD2006_FS_C71_7500_PLAND    float64\n",
       "NLCD2006_FS_C81_7500_ED       float64\n",
       "NLCD2006_FS_C81_7500_LPI      float64\n",
       "NLCD2006_FS_C81_7500_PD       float64\n",
       "NLCD2006_FS_C81_7500_PLAND    float64\n",
       "NLCD2006_FS_C82_7500_ED       float64\n",
       "NLCD2006_FS_C82_7500_LPI      float64\n",
       "NLCD2006_FS_C82_7500_PD       float64\n",
       "NLCD2006_FS_C82_7500_PLAND    float64\n",
       "NLCD2006_FS_C90_7500_ED       float64\n",
       "NLCD2006_FS_C90_7500_LPI      float64\n",
       "NLCD2006_FS_C90_7500_PD       float64\n",
       "NLCD2006_FS_C90_7500_PLAND    float64\n",
       "NLCD2006_FS_C95_7500_ED       float64\n",
       "NLCD2006_FS_C95_7500_LPI      float64\n",
       "NLCD2006_FS_C95_7500_PD       float64\n",
       "NLCD2006_FS_C95_7500_PLAND    float64\n",
       "dtype: object"
      ]
     },
     "execution_count": 5,
     "metadata": {},
     "output_type": "execute_result"
    }
   ],
   "source": [
    "srd30km.dtypes # The na_values fix worked!"
   ]
  },
  {
   "cell_type": "markdown",
   "metadata": {},
   "source": [
    "Now I'm going to try—just try, cos they're huge—reading in a covariate checklist CSV."
   ]
  },
  {
   "cell_type": "code",
   "execution_count": null,
   "metadata": {
    "collapsed": true
   },
   "outputs": [],
   "source": []
  }
 ],
 "metadata": {
  "kernelspec": {
   "display_name": "Python 3",
   "language": "python",
   "name": "python3"
  },
  "language_info": {
   "codemirror_mode": {
    "name": "ipython",
    "version": 3
   },
   "file_extension": ".py",
   "mimetype": "text/x-python",
   "name": "python",
   "nbconvert_exporter": "python",
   "pygments_lexer": "ipython3",
   "version": "3.5.1"
  }
 },
 "nbformat": 4,
 "nbformat_minor": 0
}
